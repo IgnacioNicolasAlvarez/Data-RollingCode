{
 "cells": [
  {
   "cell_type": "code",
   "execution_count": 6,
   "metadata": {},
   "outputs": [],
   "source": [
    "import pandas as pd\n",
    "import matplotlib.pyplot as plt"
   ]
  },
  {
   "cell_type": "code",
   "execution_count": 7,
   "metadata": {},
   "outputs": [
    {
     "data": {
      "text/html": [
       "<div>\n",
       "<style scoped>\n",
       "    .dataframe tbody tr th:only-of-type {\n",
       "        vertical-align: middle;\n",
       "    }\n",
       "\n",
       "    .dataframe tbody tr th {\n",
       "        vertical-align: top;\n",
       "    }\n",
       "\n",
       "    .dataframe thead th {\n",
       "        text-align: right;\n",
       "    }\n",
       "</style>\n",
       "<table border=\"1\" class=\"dataframe\">\n",
       "  <thead>\n",
       "    <tr style=\"text-align: right;\">\n",
       "      <th></th>\n",
       "      <th>PERIODO</th>\n",
       "      <th>RUBRO</th>\n",
       "      <th>TIPO_PRESTACION</th>\n",
       "      <th>BARRIO</th>\n",
       "      <th>total</th>\n",
       "    </tr>\n",
       "  </thead>\n",
       "  <tbody>\n",
       "    <tr>\n",
       "      <th>0</th>\n",
       "      <td>201301</td>\n",
       "      <td>ACERAS</td>\n",
       "      <td>RECLAMO</td>\n",
       "      <td>AGRONOMIA</td>\n",
       "      <td>6</td>\n",
       "    </tr>\n",
       "    <tr>\n",
       "      <th>1</th>\n",
       "      <td>201301</td>\n",
       "      <td>ACERAS</td>\n",
       "      <td>RECLAMO</td>\n",
       "      <td>ALMAGRO</td>\n",
       "      <td>172</td>\n",
       "    </tr>\n",
       "    <tr>\n",
       "      <th>2</th>\n",
       "      <td>201301</td>\n",
       "      <td>ACERAS</td>\n",
       "      <td>RECLAMO</td>\n",
       "      <td>BALVANERA</td>\n",
       "      <td>92</td>\n",
       "    </tr>\n",
       "    <tr>\n",
       "      <th>3</th>\n",
       "      <td>201301</td>\n",
       "      <td>ACERAS</td>\n",
       "      <td>RECLAMO</td>\n",
       "      <td>BARRACAS</td>\n",
       "      <td>45</td>\n",
       "    </tr>\n",
       "    <tr>\n",
       "      <th>4</th>\n",
       "      <td>201301</td>\n",
       "      <td>ACERAS</td>\n",
       "      <td>RECLAMO</td>\n",
       "      <td>BELGRANO</td>\n",
       "      <td>79</td>\n",
       "    </tr>\n",
       "  </tbody>\n",
       "</table>\n",
       "</div>"
      ],
      "text/plain": [
       "   PERIODO   RUBRO TIPO_PRESTACION     BARRIO  total\n",
       "0   201301  ACERAS         RECLAMO  AGRONOMIA      6\n",
       "1   201301  ACERAS         RECLAMO    ALMAGRO    172\n",
       "2   201301  ACERAS         RECLAMO  BALVANERA     92\n",
       "3   201301  ACERAS         RECLAMO   BARRACAS     45\n",
       "4   201301  ACERAS         RECLAMO   BELGRANO     79"
      ]
     },
     "execution_count": 7,
     "metadata": {},
     "output_type": "execute_result"
    }
   ],
   "source": [
    "df = pd.read_csv('./Data/Modulo_3/gcba_suaci_barrios.csv', encoding = \"ISO-8859-1\")\n",
    "df.head()"
   ]
  },
  {
   "cell_type": "code",
   "execution_count": 8,
   "metadata": {},
   "outputs": [
    {
     "data": {
      "text/plain": [
       "201401    2090\n",
       "201403    1997\n",
       "201405    1990\n",
       "201501    1972\n",
       "201406    1965\n",
       "201310    1951\n",
       "201404    1932\n",
       "201407    1932\n",
       "201309    1928\n",
       "201408    1923\n",
       "201402    1894\n",
       "201308    1893\n",
       "201305    1885\n",
       "201311    1878\n",
       "201312    1809\n",
       "201307    1792\n",
       "201303    1761\n",
       "201301    1745\n",
       "201304    1721\n",
       "201502    1674\n",
       "201306    1670\n",
       "201302    1670\n",
       "201504    1540\n",
       "201509    1534\n",
       "201505    1529\n",
       "201506    1525\n",
       "201507    1514\n",
       "201503    1504\n",
       "201510    1497\n",
       "201511    1463\n",
       "201508    1428\n",
       "201512    1420\n",
       "201409    1405\n",
       "Name: PERIODO, dtype: int64"
      ]
     },
     "execution_count": 8,
     "metadata": {},
     "output_type": "execute_result"
    }
   ],
   "source": [
    "df['PERIODO'].value_counts()"
   ]
  },
  {
   "cell_type": "code",
   "execution_count": 9,
   "metadata": {},
   "outputs": [
    {
     "data": {
      "text/html": [
       "<div>\n",
       "<style scoped>\n",
       "    .dataframe tbody tr th:only-of-type {\n",
       "        vertical-align: middle;\n",
       "    }\n",
       "\n",
       "    .dataframe tbody tr th {\n",
       "        vertical-align: top;\n",
       "    }\n",
       "\n",
       "    .dataframe thead th {\n",
       "        text-align: right;\n",
       "    }\n",
       "</style>\n",
       "<table border=\"1\" class=\"dataframe\">\n",
       "  <thead>\n",
       "    <tr style=\"text-align: right;\">\n",
       "      <th></th>\n",
       "      <th>index</th>\n",
       "      <th>RUBRO</th>\n",
       "      <th>TIPO_PRESTACION</th>\n",
       "      <th>BARRIO</th>\n",
       "      <th>total</th>\n",
       "    </tr>\n",
       "    <tr>\n",
       "      <th>PERIODO</th>\n",
       "      <th></th>\n",
       "      <th></th>\n",
       "      <th></th>\n",
       "      <th></th>\n",
       "      <th></th>\n",
       "    </tr>\n",
       "  </thead>\n",
       "  <tbody>\n",
       "    <tr>\n",
       "      <th>2013-01</th>\n",
       "      <td>0</td>\n",
       "      <td>ACERAS</td>\n",
       "      <td>RECLAMO</td>\n",
       "      <td>AGRONOMIA</td>\n",
       "      <td>6</td>\n",
       "    </tr>\n",
       "    <tr>\n",
       "      <th>2013-01</th>\n",
       "      <td>1</td>\n",
       "      <td>ACERAS</td>\n",
       "      <td>RECLAMO</td>\n",
       "      <td>ALMAGRO</td>\n",
       "      <td>172</td>\n",
       "    </tr>\n",
       "    <tr>\n",
       "      <th>2013-01</th>\n",
       "      <td>2</td>\n",
       "      <td>ACERAS</td>\n",
       "      <td>RECLAMO</td>\n",
       "      <td>BALVANERA</td>\n",
       "      <td>92</td>\n",
       "    </tr>\n",
       "    <tr>\n",
       "      <th>2013-01</th>\n",
       "      <td>3</td>\n",
       "      <td>ACERAS</td>\n",
       "      <td>RECLAMO</td>\n",
       "      <td>BARRACAS</td>\n",
       "      <td>45</td>\n",
       "    </tr>\n",
       "    <tr>\n",
       "      <th>2013-01</th>\n",
       "      <td>4</td>\n",
       "      <td>ACERAS</td>\n",
       "      <td>RECLAMO</td>\n",
       "      <td>BELGRANO</td>\n",
       "      <td>79</td>\n",
       "    </tr>\n",
       "  </tbody>\n",
       "</table>\n",
       "</div>"
      ],
      "text/plain": [
       "         index   RUBRO TIPO_PRESTACION     BARRIO  total\n",
       "PERIODO                                                 \n",
       "2013-01      0  ACERAS         RECLAMO  AGRONOMIA      6\n",
       "2013-01      1  ACERAS         RECLAMO    ALMAGRO    172\n",
       "2013-01      2  ACERAS         RECLAMO  BALVANERA     92\n",
       "2013-01      3  ACERAS         RECLAMO   BARRACAS     45\n",
       "2013-01      4  ACERAS         RECLAMO   BELGRANO     79"
      ]
     },
     "execution_count": 9,
     "metadata": {},
     "output_type": "execute_result"
    }
   ],
   "source": [
    "df['PERIODO'] = pd.to_datetime(df['PERIODO'], format='%Y%m').dropna()\n",
    "df = df.reset_index().set_index('PERIODO').to_period('M')\n",
    "df.head()"
   ]
  },
  {
   "cell_type": "code",
   "execution_count": 11,
   "metadata": {},
   "outputs": [],
   "source": [
    "df.drop(['index'], axis=1, inplace=True)"
   ]
  },
  {
   "cell_type": "code",
   "execution_count": 14,
   "metadata": {},
   "outputs": [
    {
     "data": {
      "text/html": [
       "<div>\n",
       "<style scoped>\n",
       "    .dataframe tbody tr th:only-of-type {\n",
       "        vertical-align: middle;\n",
       "    }\n",
       "\n",
       "    .dataframe tbody tr th {\n",
       "        vertical-align: top;\n",
       "    }\n",
       "\n",
       "    .dataframe thead th {\n",
       "        text-align: right;\n",
       "    }\n",
       "</style>\n",
       "<table border=\"1\" class=\"dataframe\">\n",
       "  <thead>\n",
       "    <tr style=\"text-align: right;\">\n",
       "      <th></th>\n",
       "      <th>count</th>\n",
       "      <th>unique</th>\n",
       "      <th>top</th>\n",
       "      <th>freq</th>\n",
       "      <th>mean</th>\n",
       "      <th>std</th>\n",
       "      <th>min</th>\n",
       "      <th>25%</th>\n",
       "      <th>50%</th>\n",
       "      <th>75%</th>\n",
       "      <th>max</th>\n",
       "    </tr>\n",
       "  </thead>\n",
       "  <tbody>\n",
       "    <tr>\n",
       "      <th>RUBRO</th>\n",
       "      <td>57431</td>\n",
       "      <td>346</td>\n",
       "      <td>SANEAMIENTO URBANO</td>\n",
       "      <td>4589</td>\n",
       "      <td>NaN</td>\n",
       "      <td>NaN</td>\n",
       "      <td>NaN</td>\n",
       "      <td>NaN</td>\n",
       "      <td>NaN</td>\n",
       "      <td>NaN</td>\n",
       "      <td>NaN</td>\n",
       "    </tr>\n",
       "    <tr>\n",
       "      <th>TIPO_PRESTACION</th>\n",
       "      <td>57431</td>\n",
       "      <td>5</td>\n",
       "      <td>DENUNCIA</td>\n",
       "      <td>21606</td>\n",
       "      <td>NaN</td>\n",
       "      <td>NaN</td>\n",
       "      <td>NaN</td>\n",
       "      <td>NaN</td>\n",
       "      <td>NaN</td>\n",
       "      <td>NaN</td>\n",
       "      <td>NaN</td>\n",
       "    </tr>\n",
       "    <tr>\n",
       "      <th>BARRIO</th>\n",
       "      <td>57431</td>\n",
       "      <td>51</td>\n",
       "      <td>PALERMO</td>\n",
       "      <td>2154</td>\n",
       "      <td>NaN</td>\n",
       "      <td>NaN</td>\n",
       "      <td>NaN</td>\n",
       "      <td>NaN</td>\n",
       "      <td>NaN</td>\n",
       "      <td>NaN</td>\n",
       "      <td>NaN</td>\n",
       "    </tr>\n",
       "    <tr>\n",
       "      <th>total</th>\n",
       "      <td>57431</td>\n",
       "      <td>NaN</td>\n",
       "      <td>NaN</td>\n",
       "      <td>NaN</td>\n",
       "      <td>34.8478</td>\n",
       "      <td>329.808</td>\n",
       "      <td>1</td>\n",
       "      <td>1</td>\n",
       "      <td>4</td>\n",
       "      <td>16</td>\n",
       "      <td>19221</td>\n",
       "    </tr>\n",
       "  </tbody>\n",
       "</table>\n",
       "</div>"
      ],
      "text/plain": [
       "                 count unique                 top   freq     mean      std  \\\n",
       "RUBRO            57431    346  SANEAMIENTO URBANO   4589      NaN      NaN   \n",
       "TIPO_PRESTACION  57431      5            DENUNCIA  21606      NaN      NaN   \n",
       "BARRIO           57431     51             PALERMO   2154      NaN      NaN   \n",
       "total            57431    NaN                 NaN    NaN  34.8478  329.808   \n",
       "\n",
       "                 min  25%  50%  75%    max  \n",
       "RUBRO            NaN  NaN  NaN  NaN    NaN  \n",
       "TIPO_PRESTACION  NaN  NaN  NaN  NaN    NaN  \n",
       "BARRIO           NaN  NaN  NaN  NaN    NaN  \n",
       "total              1    1    4   16  19221  "
      ]
     },
     "execution_count": 14,
     "metadata": {},
     "output_type": "execute_result"
    }
   ],
   "source": [
    "df.describe(include='all').T"
   ]
  },
  {
   "cell_type": "code",
   "execution_count": 63,
   "metadata": {},
   "outputs": [
    {
     "data": {
      "image/png": "[encoded data removed]",
      "text/plain": [
       "<Figure size 864x432 with 4 Axes>"
      ]
     },
     "metadata": {
      "needs_background": "light"
     },
     "output_type": "display_data"
    }
   ],
   "source": [
    "fig, (ax, ax1, ax2, ax3) = plt.subplots(1, 4,figsize=(12,6), sharey=True)\n",
    "fig.tight_layout()\n",
    "\n",
    "ax.boxplot(df.query('total > 0')['total'])\n",
    "ax.set_title(label= f'Cantidad observaciones: {df.query(\"total > 0\").size}');\n",
    "\n",
    "ax1.boxplot(df.query('total > 500')['total']);\n",
    "ax1.set_title(label= f'Cantidad observaciones: {df.query(\"total > 500\").size}');\n",
    "\n",
    "ax2.boxplot(df.query('total > 1000')['total']);            \n",
    "ax2.set_title(label= f'Cantidad observaciones: {df.query(\"total > 1000\").size}');\n",
    "\n",
    "ax3.boxplot(df.query('total > 2000')['total']);            \n",
    "ax3.set_title(label= f'Cantidad observaciones: {df.query(\"total > 2000\").size}');"
   ]
  },
  {
   "cell_type": "code",
   "execution_count": 64,
   "metadata": {},
   "outputs": [
    {
     "data": {
      "text/plain": [
       "<AxesSubplot:xlabel='PERIODO'>"
      ]
     },
     "execution_count": 64,
     "metadata": {},
     "output_type": "execute_result"
    },
    {
     "data": {
      "image/png": "[encoded data removed]",
      "text/plain": [
       "<Figure size 432x288 with 1 Axes>"
      ]
     },
     "metadata": {
      "needs_background": "light"
     },
     "output_type": "display_data"
    }
   ],
   "source": [
    "df['total'].plot()"
   ]
  },
  {
   "cell_type": "code",
   "execution_count": 69,
   "metadata": {},
   "outputs": [
    {
     "data": {
      "text/plain": [
       "Period('2015-02', 'M')"
      ]
     },
     "execution_count": 69,
     "metadata": {},
     "output_type": "execute_result"
    }
   ],
   "source": [
    "df['2014-01':'2015-12']['total'].idxmax()"
   ]
  },
  {
   "cell_type": "code",
   "execution_count": 74,
   "metadata": {},
   "outputs": [
    {
     "data": {
      "text/plain": [
       "<AxesSubplot:>"
      ]
     },
     "execution_count": 74,
     "metadata": {},
     "output_type": "execute_result"
    },
    {
     "data": {
      "image/png": "[encoded data removed]",
      "text/plain": [
       "<Figure size 432x288 with 1 Axes>"
      ]
     },
     "metadata": {
      "needs_background": "light"
     },
     "output_type": "display_data"
    }
   ],
   "source": [
    "df['2015-02':'2015-02'].boxplot()"
   ]
  },
  {
   "cell_type": "code",
   "execution_count": 85,
   "metadata": {},
   "outputs": [
    {
     "data": {
      "image/png": "[encoded data removed]",
      "text/plain": [
       "<Figure size 864x432 with 1 Axes>"
      ]
     },
     "metadata": {
      "needs_background": "light"
     },
     "output_type": "display_data"
    }
   ],
   "source": [
    "fig, ax = plt.subplots(figsize=(12,6), sharey=True)\n",
    "\n",
    "ax.boxplot(df.query('total < 20 and total > 1')['total'])\n",
    "ax.set_title(label= f'Cantidad observaciones: {df.query(\"total < 20 and total > 1\").size}');"
   ]
  }
 ],
 "metadata": {
  "kernelspec": {
   "display_name": "Python 3",
   "language": "python",
   "name": "python3"
  },
  "language_info": {
   "codemirror_mode": {
    "name": "ipython",
    "version": 3
   },
   "file_extension": ".py",
   "mimetype": "text/x-python",
   "name": "python",
   "nbconvert_exporter": "python",
   "pygments_lexer": "ipython3",
   "version": "3.8.5"
  }
 },
 "nbformat": 4,
 "nbformat_minor": 4
}
